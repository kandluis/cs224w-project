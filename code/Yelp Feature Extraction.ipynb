{
 "cells": [
  {
   "cell_type": "code",
   "execution_count": 2,
   "metadata": {},
   "outputs": [],
   "source": [
    "import os\n",
    "\n",
    "import numpy as np\n",
    "import pandas as pd\n",
    "import snap\n",
    "import pickle\n",
    "import matplotlib.pyplot as plt\n",
    "\n",
    "from sklearn.ensemble import RandomForestClassifier"
   ]
  },
  {
   "cell_type": "code",
   "execution_count": 3,
   "metadata": {},
   "outputs": [],
   "source": [
    "# Read datasets.\n",
    "DATA_DIR = \"../yelp_data/dataset\"\n",
    "PHOTO_DIR = \"../yelp_data/yelp_photos\"\n",
    "OUTPUT_DIR = \"../shared/figures\""
   ]
  },
  {
   "cell_type": "code",
   "execution_count": 4,
   "metadata": {},
   "outputs": [],
   "source": [
    "def loadCSV(data):\n",
    "    df = pd.read_csv(os.path.join(DATA_DIR, \"%s.csv\" % data))\n",
    "    return df"
   ]
  },
  {
   "cell_type": "code",
   "execution_count": 5,
   "metadata": {},
   "outputs": [],
   "source": [
    "businesses = loadCSV(\"business\")"
   ]
  },
  {
   "cell_type": "code",
   "execution_count": 6,
   "metadata": {},
   "outputs": [],
   "source": [
    "users = loadCSV(\"user\")"
   ]
  },
  {
   "cell_type": "code",
   "execution_count": 7,
   "metadata": {},
   "outputs": [],
   "source": [
    "reviews = loadCSV(\"review\")"
   ]
  },
  {
   "cell_type": "code",
   "execution_count": 8,
   "metadata": {},
   "outputs": [],
   "source": [
    "reviews.date = pd.to_datetime(reviews.date)"
   ]
  },
  {
   "cell_type": "code",
   "execution_count": 9,
   "metadata": {},
   "outputs": [],
   "source": [
    "counts = reviews.date.value_counts(sort=False)"
   ]
  },
  {
   "cell_type": "code",
   "execution_count": 283,
   "metadata": {},
   "outputs": [
    {
     "data": {
      "image/png": "[encoded data removed]",
      "text/plain": [
       "<matplotlib.figure.Figure at 0x150c7dad0>"
      ]
     },
     "metadata": {},
     "output_type": "display_data"
    }
   ],
   "source": [
    "plt.bar(counts.index, counts)\n",
    "plt.title(\"Time Distribution of Reviews\")\n",
    "plt.xlabel(\"Date\")\n",
    "plt.ylabel(\"Number of Reviews\")\n",
    "plt.savefig(\"../shared/figures/distribution_of_reviews_over_time\", dpi=400)\n",
    "plt.show()"
   ]
  },
  {
   "cell_type": "code",
   "execution_count": 10,
   "metadata": {},
   "outputs": [],
   "source": [
    "EARLIEST_DATE = \"2016-08-23\"\n",
    "reviewSubset = reviews[reviews.date > EARLIEST_DATE]"
   ]
  },
  {
   "cell_type": "code",
   "execution_count": 397,
   "metadata": {},
   "outputs": [],
   "source": [
    "reviewSubset.unique_id = (reviewSubset.user_id + reviewSubset.business_id)"
   ]
  },
  {
   "cell_type": "code",
   "execution_count": 12,
   "metadata": {},
   "outputs": [
    {
     "name": "stdout",
     "output_type": "stream",
     "text": [
      "There are 1000277 reviews in the data after only considering reviews performed after 2016-08-23\n"
     ]
    }
   ],
   "source": [
    "print(\"There are %s reviews in the data after only \"\n",
    "       \"considering reviews performed after %s\" % (\n",
    "           len(reviewSubset) ,EARLIEST_DATE))"
   ]
  },
  {
   "cell_type": "code",
   "execution_count": 13,
   "metadata": {},
   "outputs": [
    {
     "data": {
      "image/png": "[encoded data removed]",
      "text/plain": [
       "<matplotlib.figure.Figure at 0x1356c8d90>"
      ]
     },
     "metadata": {},
     "output_type": "display_data"
    }
   ],
   "source": [
    "reviewSubsetcounts = reviewSubset.date.value_counts(sort=False)\n",
    "plt.bar(reviewSubsetcounts.index, reviewSubsetcounts)\n",
    "plt.title(\"Time Distribution of Reviews (> 2016-08-23)\")\n",
    "plt.xlabel(\"Date\")\n",
    "plt.ylabel(\"Number of Reviews\")\n",
    "plt.savefig(\"../shared/figures/distribution_of_reviews_subset_over_time\", dpi=400)\n",
    "plt.show()"
   ]
  },
  {
   "cell_type": "code",
   "execution_count": 399,
   "metadata": {},
   "outputs": [],
   "source": [
    "nUsers = len(set(reviewSubset.user_id))"
   ]
  },
  {
   "cell_type": "code",
   "execution_count": 400,
   "metadata": {},
   "outputs": [],
   "source": [
    "nBusinesses = len(set(reviewSubset.business_id))"
   ]
  },
  {
   "cell_type": "code",
   "execution_count": 401,
   "metadata": {},
   "outputs": [],
   "source": [
    "userToNodeId = {d :i for i, d in enumerate(set(reviewSubset.user_id))}"
   ]
  },
  {
   "cell_type": "code",
   "execution_count": 402,
   "metadata": {},
   "outputs": [],
   "source": [
    "businessToNodeId = {d :i for i, d in enumerate(set(reviewSubset.business_id))}"
   ]
  },
  {
   "cell_type": "code",
   "execution_count": 407,
   "metadata": {},
   "outputs": [],
   "source": [
    "# Split roughly into 60%, 20%, and 20%.\n",
    "def getSplitSets(r):\n",
    "    ''' returns train, validation, and test reviews'''\n",
    "    t0 = '2016-08-24'\n",
    "    t1 = '2017-03-28'\n",
    "    t2 = '2017-05-29'\n",
    "    t,v, test = (r[(r.date >= t0) & (r.date < t1)],\n",
    "            r[(r.date >= t1) & (r.date < t2)],\n",
    "            r[r.date >= t2])\n",
    "    return t,v,test"
   ]
  },
  {
   "cell_type": "code",
   "execution_count": 408,
   "metadata": {},
   "outputs": [],
   "source": [
    "train, validation, test = getSplitSets(reviewSubset)"
   ]
  },
  {
   "cell_type": "code",
   "execution_count": 409,
   "metadata": {},
   "outputs": [
    {
     "data": {
      "text/plain": [
       "(0.5989670861171456, 0.1991958227570963, 0.20183709112575818)"
      ]
     },
     "execution_count": 409,
     "metadata": {},
     "output_type": "execute_result"
    }
   ],
   "source": [
    "nReviews = float(len(reviewSubset))\n",
    "print(\"The train, val, test proportions are %s. \" % ((len(train)/nReviews, len(validation)/nReviews, len(test)/nReviews))"
   ]
  },
  {
   "cell_type": "code",
   "execution_count": 410,
   "metadata": {},
   "outputs": [
    {
     "data": {
      "text/plain": [
       "599133"
      ]
     },
     "execution_count": 410,
     "metadata": {},
     "output_type": "execute_result"
    }
   ],
   "source": [
    "len(train)"
   ]
  },
  {
   "cell_type": "code",
   "execution_count": 411,
   "metadata": {},
   "outputs": [
    {
     "name": "stdout",
     "output_type": "stream",
     "text": [
      "Number of users in train: 283085\n",
      "Number of businesses in train: 92064\n"
     ]
    }
   ],
   "source": [
    "users = set(train.user_id)\n",
    "businesses = set(train.business_id)\n",
    "print \"Number of users in train: %s\" % len(users)\n",
    "print \"Number of businesses in train: %s\" % len(businesses)"
   ]
  },
  {
   "cell_type": "code",
   "execution_count": 412,
   "metadata": {},
   "outputs": [
    {
     "name": "stdout",
     "output_type": "stream",
     "text": [
      "Number of users dropped 241944.\n",
      "Number of businesses dropped 57739.\n",
      "Number of users in validation 41141.\n",
      "Number of businesses in validation 34325.\n"
     ]
    }
   ],
   "source": [
    "trueValidation = validation[validation.user_id.isin(users)\n",
    "                            & validation.business_id.isin(businesses)]\n",
    "print \"Number of users dropped %s.\" % (len(users) - len(set(trueValidation.user_id)))\n",
    "print \"Number of businesses dropped %s.\" % (len(businesses) - len(set(trueValidation.business_id)))\n",
    "print \"Number of users in validation %s.\" % len(set(trueValidation.user_id))\n",
    "print \"Number of businesses in validation %s.\" % len(set(trueValidation.business_id))"
   ]
  },
  {
   "cell_type": "code",
   "execution_count": 413,
   "metadata": {},
   "outputs": [
    {
     "name": "stdout",
     "output_type": "stream",
     "text": [
      "Number of users dropped 247068.\n",
      "Number of businesses dropped 60956.\n",
      "Number of users in validation 36017.\n",
      "Number of businesses in validation 31108.\n"
     ]
    }
   ],
   "source": [
    "trueTest = test[test.user_id.isin(users)\n",
    "                            & test.business_id.isin(businesses)]\n",
    "print \"Number of users dropped %s.\" % (len(users) - len(set(trueTest.user_id)))\n",
    "print \"Number of businesses dropped %s.\" % (len(businesses) - len(set(trueTest.business_id)))\n",
    "print \"Number of users in validation %s.\" % len(set(trueTest.user_id))\n",
    "print \"Number of businesses in validation %s.\" % len(set(trueTest.business_id))"
   ]
  },
  {
   "cell_type": "code",
   "execution_count": 414,
   "metadata": {},
   "outputs": [
    {
     "data": {
      "text/plain": [
       "(0.7873569864720307, 0.11574995203313787, 0.0968930614948314)"
      ]
     },
     "execution_count": 414,
     "metadata": {},
     "output_type": "execute_result"
    }
   ],
   "source": [
    "n = float(len(train) + len(trueValidation) + len(trueTest))\n",
    "len(train)/n, len(trueValidation)/n, len(trueTest)/n"
   ]
  },
  {
   "cell_type": "code",
   "execution_count": 415,
   "metadata": {},
   "outputs": [
    {
     "name": "stdout",
     "output_type": "stream",
     "text": [
      "Number of nodes in train graph 375149\n",
      "Number of edges in train graph 599133\n",
      "Total number of possible edges 26061937440\n",
      "Percentage of edges in graph: 0.00143945169412\n"
     ]
    }
   ],
   "source": [
    "print \"Number of nodes in train graph %s\" % (len(users) + len(businesses))\n",
    "print \"Number of edges in train graph %s\" % len(train)\n",
    "print \"Total number of possible edges %s\" % (len(users) * len(businesses))\n",
    "print \"Percentage of edges in graph: %s\" % (\n",
    "    100*(len(users) + len(businesses))/float((len(users) * len(businesses))))"
   ]
  },
  {
   "cell_type": "code",
   "execution_count": 416,
   "metadata": {},
   "outputs": [
    {
     "name": "stdout",
     "output_type": "stream",
     "text": [
      "Number of nodes in validation graph 75466\n",
      "Number of edges in validation graph 88079\n"
     ]
    }
   ],
   "source": [
    "print \"Number of nodes in validation graph %s\" % (\n",
    "    len(set(trueValidation.user_id)) + len(set(trueValidation.business_id)))\n",
    "print \"Number of edges in validation graph %s\" % len(trueValidation)"
   ]
  },
  {
   "cell_type": "code",
   "execution_count": 417,
   "metadata": {},
   "outputs": [
    {
     "name": "stdout",
     "output_type": "stream",
     "text": [
      "Number of nodes in test graph 67125\n",
      "Number of edges in test graph 73730\n"
     ]
    }
   ],
   "source": [
    "print \"Number of nodes in test graph %s\" % (\n",
    "    len(set(trueTest.user_id)) + len(set(trueTest.business_id)))\n",
    "print \"Number of edges in test graph %s\" % len(trueTest)"
   ]
  },
  {
   "cell_type": "code",
   "execution_count": 418,
   "metadata": {},
   "outputs": [],
   "source": [
    "# Save the training, validation, and testing data frames.\n",
    "train.to_csv(os.path.join(DATA_DIR, \"reviews_train.csv\"))\n",
    "trueValidation.to_csv(os.path.join(DATA_DIR, \"reviews_validation.csv\"))\n",
    "trueTest.to_csv(os.path.join(DATA_DIR, \"reviews_test.csv\"))"
   ]
  },
  {
   "cell_type": "code",
   "execution_count": 419,
   "metadata": {},
   "outputs": [
    {
     "data": {
      "text/plain": [
       "599133"
      ]
     },
     "execution_count": 419,
     "metadata": {},
     "output_type": "execute_result"
    }
   ],
   "source": [
    "len(train)"
   ]
  },
  {
   "cell_type": "code",
   "execution_count": 420,
   "metadata": {},
   "outputs": [],
   "source": [
    "u_to_id = {d: i for i, d in enumerate(users)}\n",
    "b_to_id = {d: i + len(users) for i, d in enumerate(businesses)}\n",
    "id_to_u = {d: i for i, d in u_to_id.iteritems()}\n",
    "id_to_b = {d: i for i, d in b_to_id.iteritems()}"
   ]
  },
  {
   "cell_type": "code",
   "execution_count": 421,
   "metadata": {},
   "outputs": [],
   "source": [
    "# Generate the weights for the graphs.\n",
    "weightsTrain = {(row.user_id, row.business_id) : row.stars\n",
    "                for _, row in train.iterrows()}\n",
    "weightsValidation = {(row.user_id, row.business_id) : row.stars\n",
    "                for _, row in trueValidation.iterrows()}\n",
    "weightsTest = {(row.user_id, row.business_id) : row.stars\n",
    "                for _, row in trueTest.iterrows()}"
   ]
  },
  {
   "cell_type": "code",
   "execution_count": 422,
   "metadata": {},
   "outputs": [],
   "source": [
    "# Create the actually snappy graphs.\n",
    "import snap\n",
    "def generateGraph(data):\n",
    "    N = len(users) + len(businesses)\n",
    "    M = len(data)\n",
    "    G = snap.TUNGraph.New(N, M)\n",
    "    for i in xrange(N):\n",
    "        G.AddNode(i)\n",
    "    for u,b in zip(data.user_id, data.business_id):\n",
    "        G.AddEdge(u_to_id[u], b_to_id[b])\n",
    "    \n",
    "    assert G.GetNodes() == N\n",
    "    assert G.GetEdges() == M\n",
    "    \n",
    "    return G"
   ]
  },
  {
   "cell_type": "code",
   "execution_count": 423,
   "metadata": {},
   "outputs": [],
   "source": [
    "Gtrain = generateGraph(train)\n",
    "Gval = generateGraph(trueValidation)\n",
    "Gtest = generateGraph(trueTest)"
   ]
  },
  {
   "cell_type": "code",
   "execution_count": 424,
   "metadata": {},
   "outputs": [],
   "source": [
    "snap.PlotSccDistr(Gtest,\"destribution_gtest\",\n",
    "                  \"G_{test}\")"
   ]
  },
  {
   "cell_type": "code",
   "execution_count": 425,
   "metadata": {},
   "outputs": [],
   "source": [
    "snap.PlotSccDistr(Gtest,\"destribution_gtrain\",\n",
    "                  \"G_{train}\")"
   ]
  },
  {
   "cell_type": "code",
   "execution_count": 426,
   "metadata": {},
   "outputs": [],
   "source": [
    "snap.PlotSccDistr(Gtest,\"destribution_gval\",\n",
    "                  \"G_{val}\")"
   ]
  },
  {
   "cell_type": "code",
   "execution_count": 427,
   "metadata": {},
   "outputs": [],
   "source": [
    "snap.PlotOutDegDistr(Gtest,\"degree_gtest\",\n",
    "                  \"G_{test}\", False, True)"
   ]
  },
  {
   "cell_type": "code",
   "execution_count": 428,
   "metadata": {},
   "outputs": [],
   "source": [
    "snap.PlotOutDegDistr(Gtrain,\"degree_gtrain\",\n",
    "                  \"G_{train}\",  False, True)"
   ]
  },
  {
   "cell_type": "code",
   "execution_count": 429,
   "metadata": {},
   "outputs": [],
   "source": [
    "snap.PlotOutDegDistr(Gval,\"degree_gval\",\n",
    "                  \"G_{val}\",  False, True)"
   ]
  },
  {
   "cell_type": "code",
   "execution_count": 446,
   "metadata": {},
   "outputs": [],
   "source": [
    "import sys\n",
    "def extractFeatures(G, data, N):\n",
    "    ''' Returns dictionary of features for (u,v)'''\n",
    "    results = {}\n",
    "    user_to_rating = {u_to_id[row.user_id] : row.stars\n",
    "                      for _, row in data.iterrows()}\n",
    "    print \"Finished star for user\"\n",
    "    sys.stdout.flush()\n",
    "    business_to_rating = {b_to_id[row.business_id] : row.stars \n",
    "                          for _, row in data.iterrows()}\n",
    "    print \"finished stars for business\"\n",
    "    sys.stdout.flush()\n",
    "    \n",
    "    averageSentRate = {}\n",
    "    averateReceivedRate = {}\n",
    "    count = 0\n",
    "    for _, row in data.iterrows():\n",
    "        count += 1\n",
    "        if (count % 10000 == 0):\n",
    "            print \"finished %s samples.\" % count\n",
    "            sys.stdout.flush()\n",
    "            \n",
    "        features = []\n",
    "        user = G.GetNI(u_to_id[row.user_id])\n",
    "        business = G.GetNI(b_to_id[row.business_id])\n",
    "        \n",
    "        \n",
    "        ratedbyu = [G.GetNI(user.GetNbrNId(i))\n",
    "                    for i in xrange(user.GetDeg())]\n",
    "        ratedb = [G.GetNI(business.GetNbrNId(i))\n",
    "                  for i in xrange(business.GetDeg())]\n",
    "        raters = [G.GetNI(b.GetNbrNId(i)) for b in ratedbyu\n",
    "                  for i in xrange(b.GetDeg())]\n",
    "        bus = [G.GetNI(u.GetNbrNId(i)) for u in ratedb\n",
    "               for i in xrange(u.GetDeg())]\n",
    "        \n",
    "        idratedbyu = set([n.GetId() for n in ratedbyu])\n",
    "        idbus = set(n.GetId() for n in bus)\n",
    "        idratedb = set([n.GetId() for n in ratedb])\n",
    "        idraters = set(n.GetId() for n in raters)\n",
    "        \n",
    "        commonRaters = idratedb & idraters\n",
    "        commonBusinesses = idratedbyu & idbus\n",
    "        features.append(len(commonRaters))\n",
    "        features.append(len(commonBusinesses))\n",
    "        features.append(np.mean([user_to_rating[r]\n",
    "                                 for r in commonRaters]))\n",
    "        features.append(np.mean([business_to_rating[b]\n",
    "                                 for b in commonBusinesses]))\n",
    "        features.append(np.mean([1.0 / user_to_rating[r]\n",
    "                                 for r in commonRaters]))\n",
    "        features.append(np.mean([1.0 / business_to_rating[b]\n",
    "                                 for b in commonBusinesses]))\n",
    "\n",
    "        \n",
    "        if user.GetId() not in averageSentRate:\n",
    "            averageSentRate[user.GetId()] = np.mean([business_to_rating[b]\n",
    "                                                     for b in idratedbyu])\n",
    "        if business.GetId() not in averateReceivedRate:\n",
    "            averateReceivedRate[business.GetId()] = np.mean([user_to_rating[u]\n",
    "                                                             for u in idratedb])\n",
    "        features.append(\n",
    "            averageSentRate[user.GetId()] * averateReceivedRate[business.GetId()])\n",
    "        \n",
    "        results[(user.GetId(), business.GetId())] = features\n",
    "\n",
    "        \n",
    "    # Get page ranks.\n",
    "    PRankH = snap.TIntFltH()\n",
    "    snap.GetPageRank(G, PRankH)\n",
    "    NIdEigenH = snap.TIntFltH()\n",
    "    snap.GetEigenVectorCentr(G, NIdEigenH)\n",
    "    matrix = []\n",
    "    pair_to_node = {}\n",
    "    i = 0\n",
    "    for key in results:\n",
    "        u,b = key\n",
    "        results[key].append(PRankH[u] + PRankH[b])\n",
    "        results[key].append(NIdEigenH[u] + NIdEigenH[b])\n",
    "        matrix.append(results[key])\n",
    "        pair_to_node[key] = i\n",
    "        i += 1\n",
    "        \n",
    "    feats = np.array(matrix)\n",
    "    feats = (feats - np.mean(feats, axis=0)) / np.std(feats, axis=0)\n",
    "    \n",
    "    return pair_to_node, feats"
   ]
  },
  {
   "cell_type": "code",
   "execution_count": 447,
   "metadata": {},
   "outputs": [],
   "source": [
    "def fixKeys(keys):\n",
    "    if (min(keys.values()) == 1):\n",
    "        return {k: v - 1 for k,v in keys.iteritems()}\n",
    "    else:\n",
    "        return keys"
   ]
  },
  {
   "cell_type": "code",
   "execution_count": 431,
   "metadata": {},
   "outputs": [
    {
     "name": "stdout",
     "output_type": "stream",
     "text": [
      "Finished star for user\n",
      "finished stars for business\n",
      "finished 10000 samples.\n",
      "finished 20000 samples.\n",
      "finished 30000 samples.\n",
      "finished 40000 samples.\n",
      "finished 50000 samples.\n",
      "finished 60000 samples.\n",
      "finished 70000 samples.\n",
      "CPU times: user 46.3 s, sys: 830 ms, total: 47.1 s\n",
      "Wall time: 49 s\n"
     ]
    }
   ],
   "source": [
    "%%time\n",
    "testKeys, testFeautures = extractFeatures(Gtest, trueTest, len(trueTest))"
   ]
  },
  {
   "cell_type": "code",
   "execution_count": 449,
   "metadata": {},
   "outputs": [],
   "source": [
    "testKeys = fixKeys(testKeys)"
   ]
  },
  {
   "cell_type": "code",
   "execution_count": 450,
   "metadata": {},
   "outputs": [],
   "source": [
    "with open(os.path.join(DATA_DIR, \"test_features.pkl\"), \"w\") as f:\n",
    "    pickle.dump((testKeys, testFeautures), f)"
   ]
  },
  {
   "cell_type": "code",
   "execution_count": 433,
   "metadata": {},
   "outputs": [
    {
     "name": "stdout",
     "output_type": "stream",
     "text": [
      "Finished star for user\n",
      "finished stars for business\n",
      "finished 10000 samples.\n",
      "finished 20000 samples.\n",
      "finished 30000 samples.\n",
      "finished 40000 samples.\n",
      "finished 50000 samples.\n",
      "finished 60000 samples.\n",
      "finished 70000 samples.\n",
      "finished 80000 samples.\n",
      "CPU times: user 59.8 s, sys: 1.07 s, total: 1min\n",
      "Wall time: 1min 2s\n"
     ]
    }
   ],
   "source": [
    "%%time\n",
    "valKeys, valFeatures = extractFeatures(Gval, trueValidation, len(trueValidation))"
   ]
  },
  {
   "cell_type": "code",
   "execution_count": 451,
   "metadata": {},
   "outputs": [],
   "source": [
    "valKeys = fixKeys(valKeys)"
   ]
  },
  {
   "cell_type": "code",
   "execution_count": 452,
   "metadata": {},
   "outputs": [],
   "source": [
    "with open(os.path.join(DATA_DIR, \"val_features.pkl\"), \"w\") as f:\n",
    "    pickle.dump((valKeys, valFeatures), f)"
   ]
  },
  {
   "cell_type": "code",
   "execution_count": 435,
   "metadata": {},
   "outputs": [
    {
     "name": "stdout",
     "output_type": "stream",
     "text": [
      "Finished star for user\n",
      "finished stars for business\n",
      "finished 10000 samples.\n",
      "finished 20000 samples.\n",
      "finished 30000 samples.\n",
      "finished 40000 samples.\n",
      "finished 50000 samples.\n",
      "finished 60000 samples.\n",
      "finished 70000 samples.\n",
      "finished 80000 samples.\n",
      "finished 90000 samples.\n",
      "finished 100000 samples.\n",
      "finished 110000 samples.\n",
      "finished 120000 samples.\n",
      "finished 130000 samples.\n",
      "finished 140000 samples.\n",
      "finished 150000 samples.\n",
      "finished 160000 samples.\n",
      "finished 170000 samples.\n",
      "finished 180000 samples.\n",
      "finished 190000 samples.\n",
      "finished 200000 samples.\n",
      "finished 210000 samples.\n",
      "finished 220000 samples.\n",
      "finished 230000 samples.\n",
      "finished 240000 samples.\n",
      "finished 250000 samples.\n",
      "finished 260000 samples.\n",
      "finished 270000 samples.\n",
      "finished 280000 samples.\n",
      "finished 290000 samples.\n",
      "finished 300000 samples.\n",
      "finished 310000 samples.\n",
      "finished 320000 samples.\n",
      "finished 330000 samples.\n",
      "finished 340000 samples.\n",
      "finished 350000 samples.\n",
      "finished 360000 samples.\n",
      "finished 370000 samples.\n",
      "finished 380000 samples.\n",
      "finished 390000 samples.\n",
      "finished 400000 samples.\n",
      "finished 410000 samples.\n",
      "finished 420000 samples.\n",
      "finished 430000 samples.\n",
      "finished 440000 samples.\n",
      "finished 450000 samples.\n",
      "finished 460000 samples.\n",
      "finished 470000 samples.\n",
      "finished 480000 samples.\n",
      "finished 490000 samples.\n",
      "finished 500000 samples.\n",
      "finished 510000 samples.\n",
      "finished 520000 samples.\n",
      "finished 530000 samples.\n",
      "finished 540000 samples.\n",
      "finished 550000 samples.\n",
      "finished 560000 samples.\n",
      "finished 570000 samples.\n",
      "finished 580000 samples.\n",
      "finished 590000 samples.\n"
     ]
    }
   ],
   "source": [
    "trainKeys, trainFeatures = extractFeatures(Gtrain, train, len(train))"
   ]
  },
  {
   "cell_type": "code",
   "execution_count": 453,
   "metadata": {},
   "outputs": [],
   "source": [
    "trainKeys = fixKeys(trainKeys)"
   ]
  },
  {
   "cell_type": "code",
   "execution_count": 454,
   "metadata": {},
   "outputs": [],
   "source": [
    "with open(os.path.join(DATA_DIR, \"train_features.pkl\"), \"w\") as f:\n",
    "    pickle.dump((trainKeys, trainFeatures), f)"
   ]
  },
  {
   "cell_type": "code",
   "execution_count": 455,
   "metadata": {},
   "outputs": [],
   "source": [
    "# Contruct the ratings resultsd\n",
    "def extractRatings(data, mapping):\n",
    "    res = np.zeros(len(mapping))\n",
    "    for _, row in data.iterrows():\n",
    "        res[mapping[(u_to_id[row.user_id], b_to_id[row.business_id])]\n",
    "           ] = row.stars\n",
    "    return res"
   ]
  },
  {
   "cell_type": "code",
   "execution_count": 457,
   "metadata": {},
   "outputs": [],
   "source": [
    "yTest = extractRatings(trueTest, testKeys)\n",
    "yTrain = extractRatings(train, trainKeys)\n",
    "yVal = extractRatings(trueValidation, valKeys)"
   ]
  },
  {
   "cell_type": "code",
   "execution_count": 462,
   "metadata": {},
   "outputs": [],
   "source": [
    "# dump to pickle\n",
    "with open(os.path.join(DATA_DIR, \"test_rating.pkl\"), \"w\") as ftest, \\\n",
    "      open(os.path.join(DATA_DIR, \"train_rating.pkl\"), \"w\") as ftrain, \\\n",
    "      open(os.path.join(DATA_DIR, \"val_rating.pkl\"), \"w\") as fval:\n",
    "    pickle.dump(yTest, ftest)\n",
    "    pickle.dump(yTrain, ftrain)\n",
    "    pickle.dump(yVal, fval)"
   ]
  },
  {
   "cell_type": "code",
   "execution_count": 45,
   "metadata": {},
   "outputs": [],
   "source": [
    "users.yelping_since = pd.to_datetime(users.yelping_since)"
   ]
  },
  {
   "cell_type": "code",
   "execution_count": 46,
   "metadata": {},
   "outputs": [
    {
     "data": {
      "text/plain": [
       "1256"
      ]
     },
     "execution_count": 46,
     "metadata": {},
     "output_type": "execute_result"
    }
   ],
   "source": [
    "sum(users.review_count == 0)"
   ]
  },
  {
   "cell_type": "code",
   "execution_count": 53,
   "metadata": {},
   "outputs": [],
   "source": [
    "# Remove users with no reviews\n",
    "usersReviewedAtLeastOnce = users[users.review_count != 0]"
   ]
  },
  {
   "cell_type": "code",
   "execution_count": 54,
   "metadata": {},
   "outputs": [],
   "source": [
    "userDateCounts = usersReviewedAtLeastOnce.yelping_since.value_counts(sort=False)"
   ]
  },
  {
   "cell_type": "code",
   "execution_count": 55,
   "metadata": {},
   "outputs": [
    {
     "data": {
      "image/png": "[encoded data removed]",
      "text/plain": [
       "<matplotlib.figure.Figure at 0x119335f10>"
      ]
     },
     "metadata": {},
     "output_type": "display_data"
    }
   ],
   "source": [
    "plt.bar(userDateCounts.index, userDateCounts)\n",
    "plt.title(\"Time Distribution of Users Joining\")\n",
    "plt.xlabel(\"Date\")\n",
    "plt.ylabel(\"Number of Users Who Joined\")\n",
    "plt.savefig(\"../shared/figures/distribution_of_users_joining_over_time\", dpi=400)\n",
    "plt.show()"
   ]
  },
  {
   "cell_type": "code",
   "execution_count": null,
   "metadata": {},
   "outputs": [],
   "source": []
  }
 ],
 "metadata": {
  "kernelspec": {
   "display_name": "cs224w",
   "language": "python",
   "name": "cs224w"
  },
  "language_info": {
   "codemirror_mode": {
    "name": "ipython",
    "version": 2
   },
   "file_extension": ".py",
   "mimetype": "text/x-python",
   "name": "python",
   "nbconvert_exporter": "python",
   "pygments_lexer": "ipython2",
   "version": "2.7.10"
  }
 },
 "nbformat": 4,
 "nbformat_minor": 2
}
