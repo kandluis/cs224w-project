{
 "cells": [
  {
   "cell_type": "code",
   "execution_count": 2,
   "metadata": {},
   "outputs": [],
   "source": [
    "import os\n",
    "\n",
    "import numpy as np\n",
    "import pandas as pd\n",
    "import snap\n",
    "import pickle\n",
    "\n",
    "from sklearn.ensemble import RandomForestClassifier"
   ]
  },
  {
   "cell_type": "code",
   "execution_count": 3,
   "metadata": {},
   "outputs": [],
   "source": [
    "# Read datasets.\n",
    "DATA_DIR = \"../yelp_data/dataset\"\n",
    "OUTPUT_DIR = \"../shared/figures\""
   ]
  },
  {
   "cell_type": "code",
   "execution_count": 10,
   "metadata": {},
   "outputs": [],
   "source": [
    "with open(os.path.join(DATA_DIR, \"val_features.pkl\")) as fval,\\\n",
    "      open(os.path.join(DATA_DIR, \"train_features.pkl\")) as ftrain,\\\n",
    "      open(os.path.join(DATA_DIR, \"train_rating.pkl\")) as rtrain,\\\n",
    "      open(os.path.join(DATA_DIR, \"val_rating.pkl\")) as rval:\n",
    "    (_, valFeats) = pickle.load(fval)\n",
    "    valY = pickle.load(rval)\n",
    "    (_, trainFeats) = pickle.load(ftrain)\n",
    "    trainY = pickle.load(rtrain)"
   ]
  },
  {
   "cell_type": "code",
   "execution_count": 143,
   "metadata": {},
   "outputs": [],
   "source": [
    "from sklearn.linear_model import LinearRegression\n",
    "from sklearn.linear_model import Ridge\n",
    "from sklearn.linear_model import BayesianRidge\n",
    "from sklearn.neural_network import MLPRegressor\n",
    "from sklearn.ensemble import RandomForestRegressor"
   ]
  },
  {
   "cell_type": "code",
   "execution_count": 79,
   "metadata": {},
   "outputs": [],
   "source": [
    "class BaselineModel(object):\n",
    "    def fit(self, X, y):\n",
    "        self._mean = np.mean(y)\n",
    "        return self\n",
    "    \n",
    "    def predict(self, X):\n",
    "        return np.array([self._mean for _ in xrange(len(X))])\n",
    "    \n",
    "    def score(self, X, true):\n",
    "        predicted = self.predict(X)\n",
    "        u = np.sum((true - predicted)**2)\n",
    "        v = np.sum((true - np.mean(true))**2)\n",
    "        return 1 - u/v\n",
    "    def get_params(self):\n",
    "        return \"\""
   ]
  },
  {
   "cell_type": "code",
   "execution_count": 80,
   "metadata": {},
   "outputs": [],
   "source": [
    "linearRegressor = LinearRegression()"
   ]
  },
  {
   "cell_type": "code",
   "execution_count": 90,
   "metadata": {},
   "outputs": [],
   "source": [
    "rideRegressor = Ridge(alpha=1)"
   ]
  },
  {
   "cell_type": "code",
   "execution_count": 159,
   "metadata": {},
   "outputs": [],
   "source": [
    "bayesianRegressor = BayesianRidge(n_iter=100, compute_score=True)"
   ]
  },
  {
   "cell_type": "code",
   "execution_count": 147,
   "metadata": {},
   "outputs": [],
   "source": [
    "baselinePredictor = BaselineModel()"
   ]
  },
  {
   "cell_type": "code",
   "execution_count": 148,
   "metadata": {},
   "outputs": [],
   "source": [
    "neuralNetworkPredictor = MLPRegressor(\n",
    "    hidden_layer_sizes=(200,40,8,2), max_iter=1000, early_stopping=True)"
   ]
  },
  {
   "cell_type": "code",
   "execution_count": 149,
   "metadata": {},
   "outputs": [],
   "source": [
    "randomForestPredictor = RandomForestRegressor(n_estimators=1000)"
   ]
  },
  {
   "cell_type": "code",
   "execution_count": 150,
   "metadata": {},
   "outputs": [],
   "source": [
    "def rmse(predicted, true):\n",
    "    return np.sqrt(np.sum((predicted - true)**2) / len(true))"
   ]
  },
  {
   "cell_type": "code",
   "execution_count": 151,
   "metadata": {},
   "outputs": [],
   "source": [
    "def relative_error(predicted, true):\n",
    "    m = max(np.max(predicted), np.max(true))\n",
    "    return np.mean(np.abs(predicted -true)) / m"
   ]
  },
  {
   "cell_type": "code",
   "execution_count": 152,
   "metadata": {},
   "outputs": [],
   "source": [
    "def fitModel(name, model):\n",
    "    model = model.fit(trainFeats, trainY)\n",
    "    predicted = model.predict(valFeats)\n",
    "    print \"Score for %s is %s\" % (\n",
    "        name, model.score(valFeats, valY))\n",
    "    print \"RMSE for %s is %s\" % (\n",
    "        name, rmse(predicted, valY))\n",
    "    print \"Average relative error for %s is %s percent.\" % (\n",
    "        name, 100*relative_error(predicted, valY))"
   ]
  },
  {
   "cell_type": "code",
   "execution_count": 153,
   "metadata": {},
   "outputs": [
    {
     "name": "stdout",
     "output_type": "stream",
     "text": [
      "Score for baseline is -4.63415358343e-05\n",
      "RMSE for baseline is 1.42776997765\n",
      "Average relative error for baseline is 24.1191750901 percent.\n"
     ]
    }
   ],
   "source": [
    "fitModel(\"baseline\", baselinePredictor)"
   ]
  },
  {
   "cell_type": "code",
   "execution_count": 154,
   "metadata": {},
   "outputs": [
    {
     "name": "stdout",
     "output_type": "stream",
     "text": [
      "Score for linear regression is 0.312514493616\n",
      "RMSE for linear regression is 1.18380441761\n",
      "Average relative error for linear regression is 18.2853412809 percent.\n"
     ]
    }
   ],
   "source": [
    "fitModel(\"linear regression\", linearRegressor)"
   ]
  },
  {
   "cell_type": "code",
   "execution_count": 155,
   "metadata": {},
   "outputs": [
    {
     "name": "stdout",
     "output_type": "stream",
     "text": [
      "Score for ridge regression is 0.312515072251\n",
      "RMSE for ridge regression is 1.18380391943\n",
      "Average relative error for ridge regression is 18.2853539128 percent.\n"
     ]
    }
   ],
   "source": [
    "fitModel(\"ridge regression\", rideRegressor)"
   ]
  },
  {
   "cell_type": "code",
   "execution_count": 166,
   "metadata": {},
   "outputs": [
    {
     "name": "stdout",
     "output_type": "stream",
     "text": [
      "Score for bayesian regression is 0.312534028173\n",
      "RMSE for bayesian regression is 1.18378759889\n",
      "Average relative error for bayesian regression is 18.2857790551 percent.\n"
     ]
    }
   ],
   "source": [
    "fitModel(\"bayesian regression\", bayesianRegressor)"
   ]
  },
  {
   "cell_type": "code",
   "execution_count": 157,
   "metadata": {},
   "outputs": [
    {
     "name": "stdout",
     "output_type": "stream",
     "text": [
      "Score for neural network is 0.334842664919\n",
      "RMSE for neural network is 1.16442192777\n",
      "Average relative error for neural network is 16.0869919882 percent.\n"
     ]
    }
   ],
   "source": [
    "fitModel(\"neural network\", neuralNetworkPredictor)"
   ]
  },
  {
   "cell_type": "code",
   "execution_count": 169,
   "metadata": {},
   "outputs": [
    {
     "name": "stdout",
     "output_type": "stream",
     "text": [
      "Score for random forest is 0.307618649842\n",
      "RMSE for random forest is 1.18801209881\n",
      "Average relative error for random forest is 18.6598898159 percent.\n"
     ]
    }
   ],
   "source": [
    "fitModel(\"random forest\", randomForestPredictor)"
   ]
  },
  {
   "cell_type": "code",
   "execution_count": 160,
   "metadata": {},
   "outputs": [],
   "source": [
    "with open(os.path.join(DATA_DIR, \"test_features.pkl\")) as ftest,\\\n",
    "      open(os.path.join(DATA_DIR, \"test_rating.pkl\")) as rtest:\n",
    "    (_, testFeats) = pickle.load(ftest)\n",
    "    testY = pickle.load(rtest)"
   ]
  },
  {
   "cell_type": "code",
   "execution_count": 161,
   "metadata": {},
   "outputs": [],
   "source": [
    "# Now that we have the trained models, test them with the test data.\n",
    "def finalTestModel(name, model):\n",
    "    predicted = model.predict(testFeats)\n",
    "    print \"Score for %s is %s\" % (\n",
    "        name, model.score(testFeats, testY))\n",
    "    print \"RMSE for %s is %s\" % (\n",
    "        name, rmse(predicted, testY))\n",
    "    print \"Average relative error for %s is %s percent.\" % (\n",
    "        name, 100*relative_error(predicted, testY))"
   ]
  },
  {
   "cell_type": "code",
   "execution_count": 162,
   "metadata": {},
   "outputs": [
    {
     "name": "stdout",
     "output_type": "stream",
     "text": [
      "Score for baseline is -0.000855120695457\n",
      "RMSE for baseline is 1.4634860104\n",
      "Average relative error for baseline is 24.7465614817 percent.\n"
     ]
    }
   ],
   "source": [
    "finalTestModel(\"baseline\", baselinePredictor)"
   ]
  },
  {
   "cell_type": "code",
   "execution_count": 163,
   "metadata": {},
   "outputs": [
    {
     "name": "stdout",
     "output_type": "stream",
     "text": [
      "Score for linear regression is 0.327892972837\n",
      "RMSE for linear regression is 1.19928440313\n",
      "Average relative error for linear regression is 18.5669587686 percent.\n"
     ]
    }
   ],
   "source": [
    "finalTestModel(\"linear regression\", linearRegressor)"
   ]
  },
  {
   "cell_type": "code",
   "execution_count": 164,
   "metadata": {},
   "outputs": [
    {
     "name": "stdout",
     "output_type": "stream",
     "text": [
      "Score for ridge regression is 0.327893367682\n",
      "RMSE for ridge regression is 1.19928405085\n",
      "Average relative error for ridge regression is 18.5669755633 percent.\n"
     ]
    }
   ],
   "source": [
    "finalTestModel(\"ridge regression\", rideRegressor)"
   ]
  },
  {
   "cell_type": "code",
   "execution_count": 167,
   "metadata": {},
   "outputs": [
    {
     "name": "stdout",
     "output_type": "stream",
     "text": [
      "Score for bayesian regression is 0.327906243749\n",
      "RMSE for bayesian regression is 1.19927256299\n",
      "Average relative error for bayesian regression is 18.567542783 percent.\n"
     ]
    }
   ],
   "source": [
    "finalTestModel(\"bayesian regression\", bayesianRegressor)"
   ]
  },
  {
   "cell_type": "code",
   "execution_count": 168,
   "metadata": {},
   "outputs": [
    {
     "name": "stdout",
     "output_type": "stream",
     "text": [
      "Score for neural network is 0.34511029369\n",
      "RMSE for neural network is 1.1838237529\n",
      "Average relative error for neural network is 16.3219078547 percent.\n"
     ]
    }
   ],
   "source": [
    "finalTestModel(\"neural network\", neuralNetworkPredictor)"
   ]
  },
  {
   "cell_type": "code",
   "execution_count": 170,
   "metadata": {},
   "outputs": [
    {
     "name": "stdout",
     "output_type": "stream",
     "text": [
      "Score for random forest is 0.335125985417\n",
      "RMSE for random forest is 1.19281377927\n",
      "Average relative error for random forest is 18.7137709175 percent.\n"
     ]
    }
   ],
   "source": [
    "finalTestModel(\"random forest\", randomForestPredictor)"
   ]
  },
  {
   "cell_type": "code",
   "execution_count": 171,
   "metadata": {},
   "outputs": [],
   "source": [
    "def testTrainModel(name, model):\n",
    "    predicted = model.predict(trainFeats)\n",
    "    print \"Score for %s is %s\" % (\n",
    "        name, model.score(trainFeats, trainY))\n",
    "    print \"RMSE for %s is %s\" % (\n",
    "        name, rmse(predicted, trainY))\n",
    "    print \"Average relative error for %s is %s percent.\" % (\n",
    "        name, 100*relative_error(predicted, trainY))"
   ]
  },
  {
   "cell_type": "code",
   "execution_count": 172,
   "metadata": {},
   "outputs": [
    {
     "name": "stdout",
     "output_type": "stream",
     "text": [
      "Score for baseline is 0.0\n",
      "RMSE for baseline is 1.50142049076\n",
      "Average relative error for baseline is 25.7312431633 percent.\n"
     ]
    }
   ],
   "source": [
    "testTrainModel(\"baseline\", baselinePredictor)"
   ]
  },
  {
   "cell_type": "code",
   "execution_count": 174,
   "metadata": {},
   "outputs": [
    {
     "name": "stdout",
     "output_type": "stream",
     "text": [
      "Score for linear regression is 0.257107970487\n",
      "RMSE for linear regression is 1.29409210615\n",
      "Average relative error for linear regression is 20.397681968 percent.\n"
     ]
    }
   ],
   "source": [
    "testTrainModel(\"linear regression\", linearRegressor)"
   ]
  },
  {
   "cell_type": "code",
   "execution_count": 175,
   "metadata": {},
   "outputs": [
    {
     "name": "stdout",
     "output_type": "stream",
     "text": [
      "Score for ridge regression is 0.257107970462\n",
      "RMSE for ridge regression is 1.29409210617\n",
      "Average relative error for ridge regression is 20.3976788744 percent.\n"
     ]
    }
   ],
   "source": [
    "testTrainModel(\"ridge regression\", rideRegressor)"
   ]
  },
  {
   "cell_type": "code",
   "execution_count": 177,
   "metadata": {},
   "outputs": [
    {
     "name": "stdout",
     "output_type": "stream",
     "text": [
      "Score for bayesian regression is 0.257107941987\n",
      "RMSE for bayesian regression is 1.29409213097\n",
      "Average relative error for bayesian regression is 20.3975770983 percent.\n"
     ]
    }
   ],
   "source": [
    "testTrainModel(\"bayesian regression\", bayesianRegressor)"
   ]
  },
  {
   "cell_type": "code",
   "execution_count": 178,
   "metadata": {},
   "outputs": [
    {
     "name": "stdout",
     "output_type": "stream",
     "text": [
      "Score for neural network is 0.290030838364\n",
      "RMSE for neural network is 1.26509191767\n",
      "Average relative error for neural network is 18.7831282852 percent.\n"
     ]
    }
   ],
   "source": [
    "testTrainModel(\"neural network\", neuralNetworkPredictor)"
   ]
  },
  {
   "cell_type": "code",
   "execution_count": 180,
   "metadata": {},
   "outputs": [
    {
     "name": "stdout",
     "output_type": "stream",
     "text": [
      "Score for random forest is 0.750702893173\n",
      "RMSE for random forest is 0.749654164334\n",
      "Average relative error for random forest is 10.0184313324 percent.\n"
     ]
    }
   ],
   "source": [
    "testTrainModel(\"random forest\", randomForestPredictor)"
   ]
  },
  {
   "cell_type": "code",
   "execution_count": null,
   "metadata": {},
   "outputs": [],
   "source": []
  }
 ],
 "metadata": {
  "kernelspec": {
   "display_name": "cs224w",
   "language": "python",
   "name": "cs224w"
  },
  "language_info": {
   "codemirror_mode": {
    "name": "ipython",
    "version": 2
   },
   "file_extension": ".py",
   "mimetype": "text/x-python",
   "name": "python",
   "nbconvert_exporter": "python",
   "pygments_lexer": "ipython2",
   "version": "2.7.10"
  }
 },
 "nbformat": 4,
 "nbformat_minor": 2
}
